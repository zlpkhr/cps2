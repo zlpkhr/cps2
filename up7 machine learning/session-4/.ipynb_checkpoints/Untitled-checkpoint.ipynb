{
 "cells": [
  {
   "cell_type": "code",
   "execution_count": 17,
   "id": "d0b8da7d-7817-4927-bc87-260af88dd0f1",
   "metadata": {},
   "outputs": [],
   "source": [
    "import random\n",
    "\n",
    "x1, x2, y = [0, 0, 1, 1], [0, 1, 0, 1], [0, 1, 1, 0]\n",
    "w1, w2, b = random.randint(1, 10), random.randint(1, 10), random.randint(1, 10)"
   ]
  },
  {
   "cell_type": "code",
   "execution_count": 18,
   "id": "b57fe329-7cac-40d0-a863-a62f447173ee",
   "metadata": {},
   "outputs": [],
   "source": [
    "def f(z):\n",
    "    if z >= 0:\n",
    "        return 1\n",
    "    return 0"
   ]
  },
  {
   "cell_type": "code",
   "execution_count": 20,
   "id": "2991df97-e54c-4f6f-8760-c372caa4993c",
   "metadata": {},
   "outputs": [
    {
     "name": "stdout",
     "output_type": "stream",
     "text": [
      "-1 0 0\n"
     ]
    }
   ],
   "source": [
    "epochs = 10000\n",
    "n = 1\n",
    "\n",
    "for _ in range(epochs):\n",
    "    for i in range(0, 4):\n",
    "        z = w1 * x1[i] + w2 * x2[i] + b\n",
    "        w1 = w1 + n * (y[i] - f(z)) * x1[i]\n",
    "        w2 = w2 + n * (y[i] - f(z)) * x2[i]\n",
    "        b = b + n * (y[i] - f(z))\n",
    "\n",
    "print(w1, w2, b)"
   ]
  },
  {
   "cell_type": "code",
   "execution_count": 290,
   "id": "093958c9-5cd3-495d-9e85-69f876c21d78",
   "metadata": {},
   "outputs": [],
   "source": [
    "%reset -f"
   ]
  },
  {
   "cell_type": "code",
   "execution_count": 291,
   "id": "2d936eca-a3fc-49d1-9977-8f07b4ed3e28",
   "metadata": {},
   "outputs": [],
   "source": [
    "import random\n",
    "\n",
    "x1, x2, y = [0, 0, 1, 1], [0, 1, 0, 1], [1, 0, 1, 1]\n",
    "w1, w2, b = random.randint(1, 10), random.randint(1, 10), random.randint(1, 10)"
   ]
  },
  {
   "cell_type": "code",
   "execution_count": 292,
   "id": "5c1d859d-e051-47df-a84d-5ef06df0bb6a",
   "metadata": {},
   "outputs": [],
   "source": [
    "def f(z):\n",
    "    if z >= 0:\n",
    "        return 1\n",
    "    return 0"
   ]
  },
  {
   "cell_type": "code",
   "execution_count": 293,
   "id": "a6b99685-c862-4701-9669-ddd0b8e4f015",
   "metadata": {},
   "outputs": [
    {
     "name": "stdout",
     "output_type": "stream",
     "text": [
      "3 -1 0\n"
     ]
    }
   ],
   "source": [
    "epochs = 100\n",
    "n = 1\n",
    "\n",
    "for _ in range(epochs):\n",
    "    for i in range(0, 4):\n",
    "        z = w1 * x1[i] + w2 * x2[i] + b\n",
    "        w1 = w1 + n * (y[i] - f(z)) * x1[i]\n",
    "        w2 = w2 + n * (y[i] - f(z)) * x2[i]\n",
    "        b = b + n * (y[i] - f(z))\n",
    "\n",
    "print(w1, w2, b)"
   ]
  },
  {
   "cell_type": "code",
   "execution_count": 294,
   "id": "101a9ccb-cc90-43cd-856c-b8598078c62b",
   "metadata": {},
   "outputs": [],
   "source": [
    "%reset -f"
   ]
  },
  {
   "cell_type": "code",
   "execution_count": 295,
   "id": "db646a0d-49e0-4979-ac71-c2f9792014e7",
   "metadata": {},
   "outputs": [],
   "source": [
    "import random\n",
    "\n",
    "x1, x2, y = [0, 0, 1, 1], [0, 1, 0, 1], [0, 1, 1, 0]\n",
    "w1, w2, b = random.randint(1, 10), random.randint(1, 10), random.randint(1, 10)"
   ]
  },
  {
   "cell_type": "code",
   "execution_count": 296,
   "id": "3bbe6f01-7d39-4a19-9a96-c96917230b1e",
   "metadata": {},
   "outputs": [],
   "source": [
    "def f(z):\n",
    "    if z >= 0:\n",
    "        return 1\n",
    "    return 0"
   ]
  },
  {
   "cell_type": "code",
   "execution_count": 297,
   "id": "d2367973-d4b3-484a-9129-6a5fa6c18089",
   "metadata": {},
   "outputs": [
    {
     "name": "stdout",
     "output_type": "stream",
     "text": [
      "-1 0 0\n"
     ]
    }
   ],
   "source": [
    "epochs = 100\n",
    "n = 1\n",
    "\n",
    "for _ in range(epochs):\n",
    "    for i in range(0, 4):\n",
    "        z = w1 * x1[i] + w2 * x2[i] + b\n",
    "        w1 = w1 + n * (y[i] - f(z)) * x1[i]\n",
    "        w2 = w2 + n * (y[i] - f(z)) * x2[i]\n",
    "        b = b + n * (y[i] - f(z))\n",
    "\n",
    "print(w1, w2, b)"
   ]
  }
 ],
 "metadata": {
  "kernelspec": {
   "display_name": "Python 3 (ipykernel)",
   "language": "python",
   "name": "python3"
  },
  "language_info": {
   "codemirror_mode": {
    "name": "ipython",
    "version": 3
   },
   "file_extension": ".py",
   "mimetype": "text/x-python",
   "name": "python",
   "nbconvert_exporter": "python",
   "pygments_lexer": "ipython3",
   "version": "3.12.7"
  }
 },
 "nbformat": 4,
 "nbformat_minor": 5
}
